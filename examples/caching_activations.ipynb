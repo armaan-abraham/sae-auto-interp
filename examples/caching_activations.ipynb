{
 "cells": [
  {
   "cell_type": "markdown",
   "metadata": {},
   "source": [
    "# Caching Autoencoder Activations"
   ]
  },
  {
   "cell_type": "markdown",
   "metadata": {},
   "source": [
    "Here we show a minimal example of how to cache autoencoder activations after loading the autoencoders into a model. We use the Gemma autoencoders for this example, but the procedure is the same for the other autoencoders."
   ]
  },
  {
   "cell_type": "markdown",
   "metadata": {},
   "source": [
    "## Loading the Autoencoders"
   ]
  },
  {
   "cell_type": "markdown",
   "metadata": {},
   "source": [
    "This code could be substituted for any of the other autoencoders (see the [loading autoencoders](loading_saes.ipynb) example).\n"
   ]
  },
  {
   "cell_type": "code",
   "execution_count": 1,
   "metadata": {},
   "outputs": [],
   "source": [
    "from nnsight import LanguageModel\n",
    "from sae_auto_interp.autoencoders import load_gemma_autoencoders\n"
   ]
  },
  {
   "cell_type": "code",
   "execution_count": 2,
   "metadata": {},
   "outputs": [
    {
     "data": {
      "application/vnd.jupyter.widget-view+json": {
       "model_id": "6c0b5075561a4a8eae6c48703b964161",
       "version_major": 2,
       "version_minor": 0
      },
      "text/plain": [
       "Loading checkpoint shards:   0%|          | 0/8 [00:00<?, ?it/s]"
      ]
     },
     "metadata": {},
     "output_type": "display_data"
    }
   ],
   "source": [
    "# Load the model\n",
    "model = LanguageModel(\"google/gemma-2-9b\", device_map=\"cuda\", dispatch=True, torch_dtype=\"float16\")\n",
    "\n",
    "# Load the autoencoders, the function returns a dictionary of the submodules with the autoencoders and the edited model.\n",
    "# it takes as arguments the model, the layers to load the autoencoders into,\n",
    "# the average L0 sparsity per layer, the size of the autoencoders and the type of autoencoders (residuals or MLPs).\n",
    "\n",
    "submodule_dict,model = load_gemma_autoencoders(\n",
    "            model,\n",
    "            ae_layers=[10],\n",
    "            average_l0s={10: 47},\n",
    "            size=\"131k\",\n",
    "            type=\"res\"\n",
    "        )"
   ]
  },
  {
   "cell_type": "markdown",
   "metadata": {},
   "source": [
    "## Loading the tokens and creating the cache"
   ]
  },
  {
   "cell_type": "code",
   "execution_count": 3,
   "metadata": {},
   "outputs": [],
   "source": [
    "from sae_auto_interp.config import CacheConfig\n",
    "from sae_auto_interp.features import FeatureCache\n",
    "from sae_auto_interp.utils import load_tokenized_data\n"
   ]
  },
  {
   "cell_type": "code",
   "execution_count": 4,
   "metadata": {},
   "outputs": [
    {
     "name": "stdout",
     "output_type": "stream",
     "text": [
      "EleutherAI/rpj-v2-sample  train[:1%]\n"
     ]
    },
    {
     "data": {
      "application/vnd.jupyter.widget-view+json": {
       "model_id": "68f58c45f63e4c8c80388c328c7b6499",
       "version_major": 2,
       "version_minor": 0
      },
      "text/plain": [
       "Resolving data files:   0%|          | 0/150 [00:00<?, ?it/s]"
      ]
     },
     "metadata": {},
     "output_type": "display_data"
    },
    {
     "name": "stdout",
     "output_type": "stream",
     "text": [
      "dict_keys(['.model.layers.10'])\n"
     ]
    }
   ],
   "source": [
    "# There is a default cache config that can also be modified when using a \"production\" script.\n",
    "cfg = CacheConfig(\n",
    "    dataset_repo=\"EleutherAI/rpj-v2-sample\",\n",
    "    dataset_split=\"train[:1%]\",\n",
    "    batch_size=8    ,\n",
    "    ctx_len=256,\n",
    "    n_tokens=1_000_000,\n",
    "    n_splits=5,\n",
    ")\n",
    "\n",
    "\n",
    "tokens = load_tokenized_data(\n",
    "        ctx_len=cfg.ctx_len,\n",
    "        tokenizer=model.tokenizer,\n",
    "        dataset_repo=cfg.dataset_repo,\n",
    "        dataset_split=cfg.dataset_split,\n",
    ")\n",
    "# Tokens should have the shape (n_batches,ctx_len)\n",
    "\n",
    "\n",
    "cache = FeatureCache(\n",
    "    model,\n",
    "    submodule_dict,\n",
    "    batch_size = cfg.batch_size,\n",
    ")"
   ]
  },
  {
   "cell_type": "markdown",
   "metadata": {},
   "source": [
    "# Running the cache and saving the results"
   ]
  },
  {
   "cell_type": "code",
   "execution_count": 5,
   "metadata": {},
   "outputs": [
    {
     "name": "stderr",
     "output_type": "stream",
     "text": [
      "Caching features:   0%|          | 0/488 [00:00<?, ?it/s]You're using a GemmaTokenizerFast tokenizer. Please note that with a fast tokenizer, using the `__call__` method is faster than using a method to encode the text followed by a call to the `pad` method to get a padded encoding.\n",
      "Starting from v4.46, the `logits` model output will have the same type as the model (except at train time, where it will always be FP32)\n",
      "Caching features: 100%|██████████| 488/488 [04:56<00:00,  1.64it/s, Total Tokens=999,424]\n"
     ]
    },
    {
     "name": "stdout",
     "output_type": "stream",
     "text": [
      "Total tokens processed: 999,424\n"
     ]
    }
   ],
   "source": [
    "\n",
    "\n",
    "cache.run(cfg.n_tokens, tokens)\n",
    "\n",
    "cache.save_splits(\n",
    "    n_splits=cfg.n_splits,  # We split the activation and location indices into different files to make loading faster\n",
    "    save_dir=\"latents\"\n",
    ")\n",
    "\n",
    "# The config of the cache should be saved with the results such that it can be loaded later.\n",
    "\n",
    "cache.save_config(\n",
    "    save_dir=\"latents\",\n",
    "    cfg=cfg,\n",
    "    model_name=\"google/gemma-2-9b\"\n",
    ")"
   ]
  },
  {
   "cell_type": "markdown",
   "metadata": {},
   "source": []
  }
 ],
 "metadata": {
  "kernelspec": {
   "display_name": "base",
   "language": "python",
   "name": "python3"
  },
  "language_info": {
   "codemirror_mode": {
    "name": "ipython",
    "version": 3
   },
   "file_extension": ".py",
   "mimetype": "text/x-python",
   "name": "python",
   "nbconvert_exporter": "python",
   "pygments_lexer": "ipython3",
   "version": "3.10.13"
  }
 },
 "nbformat": 4,
 "nbformat_minor": 2
}
